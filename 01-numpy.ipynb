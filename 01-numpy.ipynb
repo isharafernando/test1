{
 "cells": [
  {
   "cell_type": "markdown",
   "metadata": {
    "cell_tags": []
   },
   "source": [
    "## Analyzing Patient Data"
   ]
  },
  {
   "cell_type": "markdown",
   "metadata": {
    "cell_tags": []
   },
   "source": [
    "We are studying inflammation in patients who have been given a new treatment for arthritis,\n",
    "and need to analyze the first dozen data sets.\n",
    "The data sets are stored in [comma-separated values](gloss.html#csv) (CSV) format:\n",
    "each row holds information for a single patient,\n",
    "and the columns represent successive days.\n",
    "The first few rows of our first file look like this:\n",
    "\n",
    "    0,0,1,3,1,2,4,7,8,3,3,3,10,5,7,4,7,7,12,18,6,13,11,11,7,7,4,6,8,8,4,4,5,7,3,4,2,3,0,0\n",
    "    0,1,2,1,2,1,3,2,2,6,10,11,5,9,4,4,7,16,8,6,18,4,12,5,12,7,11,5,11,3,3,5,4,4,5,5,1,1,0,1\n",
    "    0,1,1,3,3,2,6,2,5,9,5,7,4,5,4,15,5,11,9,10,19,14,12,17,7,12,11,7,4,2,10,5,4,2,2,3,2,2,1,1\n",
    "    0,0,2,0,4,2,2,1,6,7,10,7,9,13,8,8,15,10,10,7,17,4,4,7,6,15,6,4,9,11,3,5,6,3,3,4,2,3,2,1\n",
    "    0,1,1,3,3,1,3,5,2,4,4,7,6,5,3,10,8,10,6,17,9,14,9,7,13,9,12,6,7,7,9,6,3,2,2,4,2,0,1,1"
   ]
  },
  {
   "cell_type": "markdown",
   "metadata": {
    "cell_tags": []
   },
   "source": [
    "We want to:\n",
    "\n",
    "*   load that data into memory,\n",
    "*   calculate the average inflammation per day across all patients, and\n",
    "*   plot the result.\n",
    "\n",
    "To do all that, we'll have to learn a little bit about programming."
   ]
  },
  {
   "cell_type": "markdown",
   "metadata": {
    "cell_tags": [
     "objectives"
    ]
   },
   "source": [
    "#### Objectives\n",
    "\n",
    "*   Explain what a library is, and what libraries are used for.\n",
    "*   Load a Python library and use the things it contains.\n",
    "*   Read tabular data from a file into a program.\n",
    "*   Assign values to variables.\n",
    "*   Select individual values and subsections from data.\n",
    "*   Perform operations on arrays of data.\n",
    "*   Display simple graphs."
   ]
  },
  {
   "cell_type": "markdown",
   "metadata": {
    "cell_tags": []
   },
   "source": [
    "### Loading Data"
   ]
  },
  {
   "cell_type": "markdown",
   "metadata": {
    "cell_tags": []
   },
   "source": [
    "Words are useful,\n",
    "but what's more useful are the sentences and stories we use them to build.\n",
    "Similarly,\n",
    "while a lot of powerful tools are built into languages like Python,\n",
    "even more lives in the [libraries](gloss.html#library) they are used to build.\n",
    "\n",
    "In order to load our inflammation data,\n",
    "we need to [import](gloss.html#import) a library called NumPy\n",
    "that knows how to operate on matrices:"
   ]
  },
  {
   "cell_type": "code",
   "execution_count": 3,
   "metadata": {
    "cell_tags": [],
    "collapsed": true
   },
   "outputs": [],
   "source": [
    "import numpy"
   ]
  },
  {
   "cell_type": "markdown",
   "metadata": {
    "cell_tags": []
   },
   "source": [
    "Importing a library is like getting a piece of lab equipment out of a storage locker\n",
    "and setting it up on the bench.\n",
    "Once it's done,\n",
    "we can ask the library to read our data file for us:"
   ]
  },
  {
   "cell_type": "code",
   "execution_count": 4,
   "metadata": {
    "cell_tags": []
   },
   "outputs": [
    {
     "data": {
      "text/plain": [
       "array([[ 0.,  0.,  1., ...,  3.,  0.,  0.],\n",
       "       [ 0.,  1.,  2., ...,  1.,  0.,  1.],\n",
       "       [ 0.,  1.,  1., ...,  2.,  1.,  1.],\n",
       "       ..., \n",
       "       [ 0.,  1.,  1., ...,  1.,  1.,  1.],\n",
       "       [ 0.,  0.,  0., ...,  0.,  2.,  0.],\n",
       "       [ 0.,  0.,  1., ...,  1.,  1.,  0.]])"
      ]
     },
     "execution_count": 4,
     "metadata": {},
     "output_type": "execute_result"
    }
   ],
   "source": [
    "numpy.loadtxt(fname='inflammation-01.csv', delimiter=',')"
   ]
  },
  {
   "cell_type": "markdown",
   "metadata": {
    "cell_tags": []
   },
   "source": [
    "The expression `numpy.loadtxt(...)` is a [function call](gloss.html#function-call)\n",
    "that asks Python to run the function `loadtxt` that belongs to the `numpy` library.\n",
    "This [dotted notation](gloss.html#dotted-notation) is used everywhere in Python\n",
    "to refer to the parts of things as `whole.part`.\n",
    "\n",
    "`numpy.loadtxt` has two [parameters](gloss.html#parameter):\n",
    "the name of the file we want to read,\n",
    "and the [delimiter](gloss.html#delimiter) that separates values on a line.\n",
    "These both need to be character strings (or [strings](gloss.html#string) for short),\n",
    "so we put them in quotes.\n",
    "\n",
    "When we are finished typing and press Shift+Enter,\n",
    "the notebook runs our command.\n",
    "Since we haven't told it to do anything else with the function's output,\n",
    "the notebook displays it.\n",
    "In this case,\n",
    "that output is the data we just loaded.\n",
    "By default,\n",
    "only a few rows and columns are shown\n",
    "(with `...` to omit elements when displaying big arrays).\n",
    "To save space,\n",
    "Python displays numbers as `1.` instead of `1.0`\n",
    "when there's nothing interesting after the decimal point."
   ]
  },
  {
   "cell_type": "markdown",
   "metadata": {
    "cell_tags": []
   },
   "source": [
    "Our call to `numpy.loadtxt` read our file,\n",
    "but didn't save the data in memory.\n",
    "To do that,\n",
    "we need to [assign](gloss.html#assignment) the array to a [variable](gloss.html#variable).\n",
    "A variable is just a name for a value,\n",
    "such as `x`, `current_temperature`, or `subject_id`.\n",
    "We can create a new variable simply by assigning a value to it using `=`:"
   ]
  },
  {
   "cell_type": "code",
   "execution_count": 5,
   "metadata": {
    "cell_tags": [],
    "collapsed": true
   },
   "outputs": [],
   "source": [
    "weight_kg = 55"
   ]
  },
  {
   "cell_type": "markdown",
   "metadata": {
    "cell_tags": []
   },
   "source": [
    "Once a variable has a value, we can print it:"
   ]
  },
  {
   "cell_type": "code",
   "execution_count": 6,
   "metadata": {
    "cell_tags": []
   },
   "outputs": [
    {
     "name": "stdout",
     "output_type": "stream",
     "text": [
      "55\n"
     ]
    }
   ],
   "source": [
    "print weight_kg"
   ]
  },
  {
   "cell_type": "markdown",
   "metadata": {
    "cell_tags": []
   },
   "source": [
    "and do arithmetic with it:"
   ]
  },
  {
   "cell_type": "code",
   "execution_count": 7,
   "metadata": {
    "cell_tags": []
   },
   "outputs": [
    {
     "name": "stdout",
     "output_type": "stream",
     "text": [
      "weight in pounds: 121.0\n"
     ]
    }
   ],
   "source": [
    "print 'weight in pounds:', 2.2 * weight_kg"
   ]
  },
  {
   "cell_type": "markdown",
   "metadata": {
    "cell_tags": []
   },
   "source": [
    "We can also change a variable's value by assigning it a new one:"
   ]
  },
  {
   "cell_type": "code",
   "execution_count": 8,
   "metadata": {
    "cell_tags": []
   },
   "outputs": [
    {
     "name": "stdout",
     "output_type": "stream",
     "text": [
      "weight in kilograms is now: 57.5\n"
     ]
    }
   ],
   "source": [
    "weight_kg = 57.5\n",
    "print 'weight in kilograms is now:', weight_kg"
   ]
  },
  {
   "cell_type": "markdown",
   "metadata": {
    "cell_tags": []
   },
   "source": [
    "As the example above shows,\n",
    "we can print several things at once by separating them with commas.\n",
    "\n",
    "If we imagine the variable as a sticky note with a name written on it,\n",
    "assignment is like putting the sticky note on a particular value:"
   ]
  },
  {
   "cell_type": "markdown",
   "metadata": {
    "cell_tags": []
   },
   "source": [
    "<img src=\"python-sticky-note-variables-01.svg\" alt=\"Variables as Sticky Notes\" />"
   ]
  },
  {
   "cell_type": "markdown",
   "metadata": {
    "cell_tags": []
   },
   "source": [
    "This means that assigning a value to one variable does *not* change the values of other variables.\n",
    "For example,\n",
    "let's store the subject's weight in pounds in a variable:"
   ]
  },
  {
   "cell_type": "code",
   "execution_count": 9,
   "metadata": {
    "cell_tags": []
   },
   "outputs": [
    {
     "name": "stdout",
     "output_type": "stream",
     "text": [
      "weight in kilograms: 57.5 and in pounds: 126.5\n"
     ]
    }
   ],
   "source": [
    "weight_lb = 2.2 * weight_kg\n",
    "print 'weight in kilograms:', weight_kg, 'and in pounds:', weight_lb"
   ]
  },
  {
   "cell_type": "markdown",
   "metadata": {},
   "source": [
    "<img src=\"python-sticky-note-variables-02.svg\" alt=\"Creating Another Variable\" />"
   ]
  },
  {
   "cell_type": "markdown",
   "metadata": {
    "cell_tags": []
   },
   "source": [
    "and then change `weight_kg`:"
   ]
  },
  {
   "cell_type": "code",
   "execution_count": 10,
   "metadata": {
    "cell_tags": []
   },
   "outputs": [
    {
     "name": "stdout",
     "output_type": "stream",
     "text": [
      "weight in kilograms is now: 100.0 and weight in pounds is still: 126.5\n"
     ]
    }
   ],
   "source": [
    "weight_kg = 100.0\n",
    "print 'weight in kilograms is now:', weight_kg, 'and weight in pounds is still:', weight_lb"
   ]
  },
  {
   "cell_type": "markdown",
   "metadata": {},
   "source": [
    "<img src=\"python-sticky-note-variables-03.svg\" alt=\"Updating a Variable\" />"
   ]
  },
  {
   "cell_type": "markdown",
   "metadata": {
    "cell_tags": []
   },
   "source": [
    "Since `weight_lb` doesn't \"remember\" where its value came from,\n",
    "it isn't automatically updated when `weight_kg` changes.\n",
    "This is different from the way spreadsheets work.\n",
    "\n",
    "Now that we know how to assign things to variables,\n",
    "let's re-run `numpy.loadtxt` and save its result:"
   ]
  },
  {
   "cell_type": "code",
   "execution_count": 22,
   "metadata": {
    "cell_tags": [],
    "collapsed": true
   },
   "outputs": [],
   "source": [
    "data = numpy.loadtxt(fname='inflammation-01.csv', delimiter=',')"
   ]
  },
  {
   "cell_type": "markdown",
   "metadata": {
    "cell_tags": []
   },
   "source": [
    "This statement doesn't produce any output because assignment doesn't display anything.\n",
    "If we want to check that our data has been loaded,\n",
    "we can print the variable's value:"
   ]
  },
  {
   "cell_type": "code",
   "execution_count": 12,
   "metadata": {
    "cell_tags": []
   },
   "outputs": [
    {
     "name": "stdout",
     "output_type": "stream",
     "text": [
      "[[ 0.  0.  1. ...,  3.  0.  0.]\n",
      " [ 0.  1.  2. ...,  1.  0.  1.]\n",
      " [ 0.  1.  1. ...,  2.  1.  1.]\n",
      " ..., \n",
      " [ 0.  1.  1. ...,  1.  1.  1.]\n",
      " [ 0.  0.  0. ...,  0.  2.  0.]\n",
      " [ 0.  0.  1. ...,  1.  1.  0.]]\n"
     ]
    }
   ],
   "source": [
    "print data"
   ]
  },
  {
   "cell_type": "markdown",
   "metadata": {
    "cell_tags": [
     "challenges"
    ]
   },
   "source": [
    "#### Challenges\n",
    "\n",
    "1.  Draw diagrams showing what variables refer to what values after each statement in the following program:\n",
    "\n",
    "    ~~~python\n",
    "    mass = 47.5\n",
    "    age = 122\n",
    "    mass = mass * 2.0\n",
    "    age = age - 20\n",
    "    ~~~\n",
    "\n",
    "1.  What does the following program print out?\n",
    "\n",
    "    ~~~python\n",
    "    first, second = 'Grace', 'Hopper'\n",
    "    third, fourth = second, first\n",
    "    print third, fourth\n",
    "    ~~~"
   ]
  },
  {
   "cell_type": "markdown",
   "metadata": {
    "cell_tags": []
   },
   "source": [
    "### Manipulating Data"
   ]
  },
  {
   "cell_type": "markdown",
   "metadata": {
    "cell_tags": []
   },
   "source": [
    "Now that our data is in memory,\n",
    "we can start doing things with it.\n",
    "First,\n",
    "let's ask what [type](gloss.html#data-type) of thing `data` refers to:"
   ]
  },
  {
   "cell_type": "code",
   "execution_count": 11,
   "metadata": {
    "cell_tags": []
   },
   "outputs": [
    {
     "name": "stdout",
     "output_type": "stream",
     "text": [
      "<type 'numpy.ndarray'>\n"
     ]
    }
   ],
   "source": [
    "print type(data)"
   ]
  },
  {
   "cell_type": "markdown",
   "metadata": {
    "cell_tags": []
   },
   "source": [
    "The output tells us that `data` currently refers to an N-dimensional array created by the NumPy library.\n",
    "We can see what its [shape](gloss.html#shape) is like this:"
   ]
  },
  {
   "cell_type": "code",
   "execution_count": 12,
   "metadata": {
    "cell_tags": []
   },
   "outputs": [
    {
     "name": "stdout",
     "output_type": "stream",
     "text": [
      "(60, 40)\n"
     ]
    }
   ],
   "source": [
    "print data.shape"
   ]
  },
  {
   "cell_type": "markdown",
   "metadata": {
    "cell_tags": []
   },
   "source": [
    "This tells us that `data` has 60 rows and 40 columns.\n",
    "`data.shape` is a [member](gloss.html#member) of `data`,\n",
    "i.e.,\n",
    "a value that is stored as part of a larger value.\n",
    "We use the same dotted notation for the members of values\n",
    "that we use for the functions in libraries\n",
    "because they have the same part-and-whole relationship."
   ]
  },
  {
   "cell_type": "markdown",
   "metadata": {
    "cell_tags": []
   },
   "source": [
    "If we want to get a single value from the matrix,\n",
    "we must provide an [index](gloss.html#index) in square brackets,\n",
    "just as we do in math:"
   ]
  },
  {
   "cell_type": "code",
   "execution_count": 13,
   "metadata": {
    "cell_tags": []
   },
   "outputs": [
    {
     "name": "stdout",
     "output_type": "stream",
     "text": [
      "first value in data: 0.0\n"
     ]
    }
   ],
   "source": [
    "print 'first value in data:', data[0, 0]"
   ]
  },
  {
   "cell_type": "code",
   "execution_count": 14,
   "metadata": {
    "cell_tags": []
   },
   "outputs": [
    {
     "name": "stdout",
     "output_type": "stream",
     "text": [
      "middle value in data: 13.0\n"
     ]
    }
   ],
   "source": [
    "print 'middle value in data:', data[30, 20]"
   ]
  },
  {
   "cell_type": "markdown",
   "metadata": {
    "cell_tags": []
   },
   "source": [
    "The expression `data[30, 20]` may not surprise you,\n",
    "but `data[0, 0]` might.\n",
    "Programming languages like Fortran and MATLAB start counting at 1,\n",
    "because that's what human beings have done for thousands of years.\n",
    "Languages in the C family (including C++, Java, Perl, and Python) count from 0\n",
    "because that's simpler for computers to do.\n",
    "As a result,\n",
    "if we have an M&times;N array in Python,\n",
    "its indices go from 0 to M-1 on the first axis\n",
    "and 0 to N-1 on the second.\n",
    "It takes a bit of getting used to,\n",
    "but one way to remember the rule is that\n",
    "the index is how many steps we have to take from the start to get the item we want.\n",
    "\n",
    "> #### In the Corner\n",
    ">\n",
    "> What may also surprise you is that when Python displays an array,\n",
    "> it shows the element with index `[0, 0]` in the upper left corner\n",
    "> rather than the lower left.\n",
    "> This is consistent with the way mathematicians draw matrices,\n",
    "> but different from the Cartesian coordinates.\n",
    "> The indices are (row, column) instead of (column, row) for the same reason."
   ]
  },
  {
   "cell_type": "markdown",
   "metadata": {
    "cell_tags": []
   },
   "source": [
    "An index like `[30, 20]` selects a single element of an array,\n",
    "but we can select whole sections as well.\n",
    "For example,\n",
    "we can select the first ten days (columns) of values\n",
    "for the first four (rows) patients like this:"
   ]
  },
  {
   "cell_type": "code",
   "execution_count": 15,
   "metadata": {
    "cell_tags": []
   },
   "outputs": [
    {
     "name": "stdout",
     "output_type": "stream",
     "text": [
      "[[ 0.  0.  1.  3.  1.  2.  4.  7.  8.  3.]\n",
      " [ 0.  1.  2.  1.  2.  1.  3.  2.  2.  6.]\n",
      " [ 0.  1.  1.  3.  3.  2.  6.  2.  5.  9.]\n",
      " [ 0.  0.  2.  0.  4.  2.  2.  1.  6.  7.]]\n"
     ]
    }
   ],
   "source": [
    "print data[0:4, 0:10]"
   ]
  },
  {
   "cell_type": "markdown",
   "metadata": {
    "cell_tags": []
   },
   "source": [
    "The [slice](gloss.html#slice) `0:4` means,\n",
    "\"Start at index 0 and go up to, but not including, index 4.\"\n",
    "Again,\n",
    "the up-to-but-not-including takes a bit of getting used to,\n",
    "but the rule is that the difference between the upper and lower bounds is the number of values in the slice.\n",
    "\n",
    "We don't have to start slices at 0:"
   ]
  },
  {
   "cell_type": "code",
   "execution_count": 16,
   "metadata": {
    "cell_tags": []
   },
   "outputs": [
    {
     "name": "stdout",
     "output_type": "stream",
     "text": [
      "[[ 0.  0.  1.  2.  2.  4.  2.  1.  6.  4.]\n",
      " [ 0.  0.  2.  2.  4.  2.  2.  5.  5.  8.]\n",
      " [ 0.  0.  1.  2.  3.  1.  2.  3.  5.  3.]\n",
      " [ 0.  0.  0.  3.  1.  5.  6.  5.  5.  8.]\n",
      " [ 0.  1.  1.  2.  1.  3.  5.  3.  5.  8.]]\n"
     ]
    }
   ],
   "source": [
    "print data[5:10, 0:10]"
   ]
  },
  {
   "cell_type": "markdown",
   "metadata": {
    "cell_tags": []
   },
   "source": [
    "and we don't have to take all the values in the slice---if we provide a [stride](gloss.html#stride),\n",
    "Python takes values spaced that far apart:"
   ]
  },
  {
   "cell_type": "code",
   "execution_count": 17,
   "metadata": {
    "cell_tags": []
   },
   "outputs": [
    {
     "name": "stdout",
     "output_type": "stream",
     "text": [
      "[[ 0.  1.  1.  4.  8.]\n",
      " [ 0.  2.  4.  2.  6.]\n",
      " [ 0.  2.  4.  2.  5.]\n",
      " [ 0.  1.  1.  5.  5.]]\n"
     ]
    }
   ],
   "source": [
    "print data[0:10:3, 0:10:2]"
   ]
  },
  {
   "cell_type": "markdown",
   "metadata": {
    "cell_tags": []
   },
   "source": [
    "Here,\n",
    "we have taken rows 0, 3, 6, and 9,\n",
    "and columns 0, 2, 4, 6, and 8.\n",
    "(Again, we always include the lower bound,\n",
    "but stop when we reach or cross the upper bound.)"
   ]
  },
  {
   "cell_type": "markdown",
   "metadata": {
    "cell_tags": []
   },
   "source": [
    "We also don't have to include the upper and lower bound on the slice.\n",
    "If we don't include the lower bound,\n",
    "Python uses 0 by default;\n",
    "if we don't include the upper,\n",
    "the slice runs to the end of the axis,\n",
    "and if we don't include either\n",
    "(i.e., if we just use ':' on its own),\n",
    "the slice includes everything:"
   ]
  },
  {
   "cell_type": "code",
   "execution_count": 18,
   "metadata": {
    "cell_tags": []
   },
   "outputs": [
    {
     "name": "stdout",
     "output_type": "stream",
     "text": [
      "small is:\n",
      "[[ 2.  3.  0.  0.]\n",
      " [ 1.  1.  0.  1.]\n",
      " [ 2.  2.  1.  1.]]\n"
     ]
    }
   ],
   "source": [
    "small = data[:3, 36:]\n",
    "print 'small is:'\n",
    "print small"
   ]
  },
  {
   "cell_type": "markdown",
   "metadata": {
    "cell_tags": []
   },
   "source": [
    "Arrays also know how to perform common mathematical operations on their values.\n",
    "If we want to find the average inflammation for all patients on all days,\n",
    "for example,\n",
    "we can just ask the array for its mean value"
   ]
  },
  {
   "cell_type": "code",
   "execution_count": 19,
   "metadata": {
    "cell_tags": []
   },
   "outputs": [
    {
     "name": "stdout",
     "output_type": "stream",
     "text": [
      "6.14875\n"
     ]
    }
   ],
   "source": [
    "print data.mean()"
   ]
  },
  {
   "cell_type": "markdown",
   "metadata": {
    "cell_tags": []
   },
   "source": [
    "`mean` is a [method](gloss.html#method) of the array,\n",
    "i.e.,\n",
    "a function that belongs to it\n",
    "in the same way that the member `shape` does.\n",
    "If variables are nouns, methods are verbs:\n",
    "they are what the thing in question knows how to do.\n",
    "This is why `data.shape` doesn't need to be called\n",
    "(it's just a thing)\n",
    "but `data.mean()` does\n",
    "(it's an action).\n",
    "It is also why we need empty parentheses for `data.mean()`:\n",
    "even when we're not passing in any parameters,\n",
    "parentheses are how we tell Python to go and do something for us.\n",
    "\n",
    "NumPy arrays have lots of useful methods:"
   ]
  },
  {
   "cell_type": "code",
   "execution_count": 20,
   "metadata": {
    "cell_tags": []
   },
   "outputs": [
    {
     "name": "stdout",
     "output_type": "stream",
     "text": [
      "maximum inflammation: 20.0\n",
      "minimum inflammation: 0.0\n",
      "standard deviation: 4.61383319712\n"
     ]
    }
   ],
   "source": [
    "print 'maximum inflammation:', data.max()\n",
    "print 'minimum inflammation:', data.min()\n",
    "print 'standard deviation:', data.std()"
   ]
  },
  {
   "cell_type": "markdown",
   "metadata": {
    "cell_tags": []
   },
   "source": [
    "When analyzing data,\n",
    "though,\n",
    "we often want to look at partial statistics,\n",
    "such as the maximum value per patient\n",
    "or the average value per day.\n",
    "One way to do this is to select the data we want to create a new temporary array,\n",
    "then ask it to do the calculation:"
   ]
  },
  {
   "cell_type": "code",
   "execution_count": 21,
   "metadata": {
    "cell_tags": []
   },
   "outputs": [
    {
     "name": "stdout",
     "output_type": "stream",
     "text": [
      "maximum inflammation for patient 0: 18.0\n"
     ]
    }
   ],
   "source": [
    "patient_0 = data[0, :] # 0 on the first axis, everything on the second\n",
    "print 'maximum inflammation for patient 0:', patient_0.max()"
   ]
  },
  {
   "cell_type": "markdown",
   "metadata": {
    "cell_tags": []
   },
   "source": [
    "We don't actually need to store the row in a variable of its own.\n",
    "Instead, we can combine the selection and the method call:"
   ]
  },
  {
   "cell_type": "code",
   "execution_count": 22,
   "metadata": {
    "cell_tags": []
   },
   "outputs": [
    {
     "name": "stdout",
     "output_type": "stream",
     "text": [
      "maximum inflammation for patient 2: 19.0\n"
     ]
    }
   ],
   "source": [
    "print 'maximum inflammation for patient 2:', data[2, :].max()"
   ]
  },
  {
   "cell_type": "markdown",
   "metadata": {
    "cell_tags": []
   },
   "source": [
    "What if we need the maximum inflammation for *all* patients,\n",
    "or the average for each day?\n",
    "As the diagram below shows,\n",
    "we want to perform the operation across an axis:"
   ]
  },
  {
   "cell_type": "markdown",
   "metadata": {
    "cell_tags": []
   },
   "source": [
    "<img src=\"python-operations-across-axes.svg\" alt=\"Operations Across Axes\" />"
   ]
  },
  {
   "cell_type": "markdown",
   "metadata": {
    "cell_tags": []
   },
   "source": [
    "To support this,\n",
    "most array methods allow us to specify the axis we want to work on.\n",
    "If we ask for the average across axis 0,\n",
    "we get:"
   ]
  },
  {
   "cell_type": "code",
   "execution_count": 23,
   "metadata": {
    "cell_tags": []
   },
   "outputs": [
    {
     "name": "stdout",
     "output_type": "stream",
     "text": [
      "[  0.           0.45         1.11666667   1.75         2.43333333   3.15\n",
      "   3.8          3.88333333   5.23333333   5.51666667   5.95         5.9\n",
      "   8.35         7.73333333   8.36666667   9.5          9.58333333\n",
      "  10.63333333  11.56666667  12.35        13.25        11.96666667\n",
      "  11.03333333  10.16666667  10.           8.66666667   9.15         7.25\n",
      "   7.33333333   6.58333333   6.06666667   5.95         5.11666667   3.6\n",
      "   3.3          3.56666667   2.48333333   1.5          1.13333333\n",
      "   0.56666667]\n"
     ]
    }
   ],
   "source": [
    "print data.mean(axis=0)"
   ]
  },
  {
   "cell_type": "markdown",
   "metadata": {
    "cell_tags": []
   },
   "source": [
    "As a quick check,\n",
    "we can ask this array what its shape is:"
   ]
  },
  {
   "cell_type": "code",
   "execution_count": 24,
   "metadata": {
    "cell_tags": []
   },
   "outputs": [
    {
     "name": "stdout",
     "output_type": "stream",
     "text": [
      "(40,)\n"
     ]
    }
   ],
   "source": [
    "print data.mean(axis=0).shape"
   ]
  },
  {
   "cell_type": "markdown",
   "metadata": {
    "cell_tags": []
   },
   "source": [
    "The expression `(40,)` tells us we have an N&times;1 vector,\n",
    "so this is the average inflammation per day for all patients.\n",
    "If we average across axis 1, we get:"
   ]
  },
  {
   "cell_type": "code",
   "execution_count": 25,
   "metadata": {
    "cell_tags": []
   },
   "outputs": [
    {
     "name": "stdout",
     "output_type": "stream",
     "text": [
      "[ 5.45   5.425  6.1    5.9    5.55   6.225  5.975  6.65   6.625  6.525\n",
      "  6.775  5.8    6.225  5.75   5.225  6.3    6.55   5.7    5.85   6.55\n",
      "  5.775  5.825  6.175  6.1    5.8    6.425  6.05   6.025  6.175  6.55\n",
      "  6.175  6.35   6.725  6.125  7.075  5.725  5.925  6.15   6.075  5.75\n",
      "  5.975  5.725  6.3    5.9    6.75   5.925  7.225  6.15   5.95   6.275  5.7\n",
      "  6.1    6.825  5.975  6.725  5.7    6.25   6.4    7.05   5.9  ]\n"
     ]
    }
   ],
   "source": [
    "print data.mean(axis=1)"
   ]
  },
  {
   "cell_type": "markdown",
   "metadata": {
    "cell_tags": []
   },
   "source": [
    "which is the average inflammation per patient across all days."
   ]
  },
  {
   "cell_type": "markdown",
   "metadata": {
    "cell_tags": [
     "challenges"
    ]
   },
   "source": [
    "#### Challenges\n",
    "\n",
    "A subsection of an array is called a [slice](gloss.html#slice).\n",
    "We can take slices of character strings as well:"
   ]
  },
  {
   "cell_type": "code",
   "execution_count": 13,
   "metadata": {
    "cell_tags": [
     "challenges"
    ]
   },
   "outputs": [
    {
     "name": "stdout",
     "output_type": "stream",
     "text": [
      "first three characters: oxy\n",
      "last three characters: gen\n"
     ]
    }
   ],
   "source": [
    "element = 'oxygen'\n",
    "print 'first three characters:', element[0:3]\n",
    "print 'last three characters:', element[3:6]"
   ]
  },
  {
   "cell_type": "markdown",
   "metadata": {
    "cell_tags": [
     "challenges"
    ]
   },
   "source": [
    "1.  What is the value of `element[:4]`?\n",
    "    What about `element[4:]`?\n",
    "    Or `element[:]`?\n",
    "\n",
    "1.  What is `element[-1]`?\n",
    "    What is `element[-2]`?\n",
    "    Given those answers,\n",
    "    explain what `element[1:-1]` does.\n",
    "\n",
    "1.  The expression `element[3:3]` produces an [empty string](gloss.html#empty-string),\n",
    "    i.e., a string that contains no characters.\n",
    "    If `data` holds our array of patient data,\n",
    "    what does `data[3:3, 4:4]` produce?\n",
    "    What about `data[3:3, :]`?"
   ]
  },
  {
   "cell_type": "code",
   "execution_count": 23,
   "metadata": {},
   "outputs": [
    {
     "name": "stdout",
     "output_type": "stream",
     "text": [
      "oxyg\n",
      "en\n",
      "n\n",
      "e\n",
      "xyge\n",
      "[]\n",
      "[]\n"
     ]
    }
   ],
   "source": [
    "print element[:4]\n",
    "print element[4:]\n",
    "print element[-1]\n",
    "print element[-2]\n",
    "print element[1:-1]\n",
    "#print element[3,3]\n",
    "print data[3:3,4:4]\n",
    "print data[3:3, :]"
   ]
  },
  {
   "cell_type": "markdown",
   "metadata": {
    "cell_tags": []
   },
   "source": [
    "### Plotting"
   ]
  },
  {
   "cell_type": "markdown",
   "metadata": {
    "cell_tags": []
   },
   "source": [
    "The mathematician Richard Hamming once said,\n",
    "\"The purpose of computing is insight, not numbers,\"\n",
    "and the best way to develop insight is often to visualize data.\n",
    "Visualization deserves an entire lecture (or course) of its own,\n",
    "but we can explore a few features of Python's `matplotlib` here.\n",
    "First,\n",
    "let's tell the IPython Notebook that we want our plots displayed inline,\n",
    "rather than in a separate viewing window:"
   ]
  },
  {
   "cell_type": "code",
   "execution_count": 27,
   "metadata": {
    "cell_tags": [],
    "collapsed": true
   },
   "outputs": [],
   "source": [
    "%matplotlib inline"
   ]
  },
  {
   "cell_type": "markdown",
   "metadata": {
    "cell_tags": []
   },
   "source": [
    "The `%` at the start of the line signals that this is a command for the notebook,\n",
    "rather than a statement in Python.\n",
    "Next,\n",
    "we will import the `pyplot` module from `matplotlib`\n",
    "and use two of its functions to create and display a heat map of our data:"
   ]
  },
  {
   "cell_type": "code",
   "execution_count": 28,
   "metadata": {
    "cell_tags": []
   },
   "outputs": [
    {
     "data": {
      "image/png": "[encoded data removed]",
      "text/plain": [
       "<matplotlib.figure.Figure at 0x7f333e7bbf50>"
      ]
     },
     "metadata": {},
     "output_type": "display_data"
    }
   ],
   "source": [
    "from matplotlib import pyplot\n",
    "pyplot.imshow(data)\n",
    "pyplot.show()"
   ]
  },
  {
   "cell_type": "markdown",
   "metadata": {
    "cell_tags": []
   },
   "source": [
    "Blue regions in this heat map are low values, while red shows high values.\n",
    "As we can see,\n",
    "inflammation rises and falls over a 40-day period.\n",
    "Let's take a look at the average inflammation over time:"
   ]
  },
  {
   "cell_type": "code",
   "execution_count": 29,
   "metadata": {
    "cell_tags": []
   },
   "outputs": [
    {
     "data": {
      "image/png": "[encoded data removed]",
      "text/plain": [
       "<matplotlib.figure.Figure at 0x7f333c981210>"
      ]
     },
     "metadata": {},
     "output_type": "display_data"
    }
   ],
   "source": [
    "ave_inflammation = data.mean(axis=0)\n",
    "pyplot.plot(ave_inflammation)\n",
    "pyplot.show()"
   ]
  },
  {
   "cell_type": "markdown",
   "metadata": {
    "cell_tags": []
   },
   "source": [
    "Here,\n",
    "we have put the average per day across all patients in the variable `ave_inflammation`,\n",
    "then asked `pyplot` to create and display a line graph of those values.\n",
    "The result is roughly a linear rise and fall,\n",
    "which is suspicious:\n",
    "based on other studies,\n",
    "we expect a sharper rise and slower fall.\n",
    "Let's have a look at two other statistics:"
   ]
  },
  {
   "cell_type": "code",
   "execution_count": 30,
   "metadata": {
    "cell_tags": []
   },
   "outputs": [
    {
     "name": "stdout",
     "output_type": "stream",
     "text": [
      "maximum inflammation per day\n"
     ]
    },
    {
     "data": {
      "image/png": "[encoded data removed]",
      "text/plain": [
       "<matplotlib.figure.Figure at 0x10ed1b790>"
      ]
     },
     "metadata": {},
     "output_type": "display_data"
    },
    {
     "name": "stdout",
     "output_type": "stream",
     "text": [
      "minimum inflammation per day\n"
     ]
    },
    {
     "data": {
      "image/png": "[encoded data removed]",
      "text/plain": [
       "<matplotlib.figure.Figure at 0x10ef6e390>"
      ]
     },
     "metadata": {},
     "output_type": "display_data"
    }
   ],
   "source": [
    "print 'maximum inflammation per day'\n",
    "pyplot.plot(data.max(axis=0))\n",
    "pyplot.show()\n",
    "\n",
    "print 'minimum inflammation per day'\n",
    "pyplot.plot(data.min(axis=0))\n",
    "pyplot.show()"
   ]
  },
  {
   "cell_type": "markdown",
   "metadata": {
    "cell_tags": []
   },
   "source": [
    "The maximum value rises and falls perfectly smoothly,\n",
    "while the minimum seems to be a step function.\n",
    "Neither result seems particularly likely,\n",
    "so either there's a mistake in our calculations\n",
    "or something is wrong with our data."
   ]
  },
  {
   "cell_type": "markdown",
   "metadata": {
    "cell_tags": [
     "challenges"
    ]
   },
   "source": [
    "#### Challenges\n",
    "\n",
    "1.  Why do all of our plots stop just short of the upper end of our graph?\n",
    "    Why are the vertical lines in our plot of the minimum inflammation per day not vertical?\n",
    "\n",
    "1.  Create a plot showing the standard deviation of the inflammation data for each day across all patients."
   ]
  },
  {
   "cell_type": "code",
   "execution_count": 53,
   "metadata": {},
   "outputs": [
    {
     "data": {
      "text/plain": [
       "6.2999999999999998"
      ]
     },
     "execution_count": 53,
     "metadata": {},
     "output_type": "execute_result"
    }
   ],
   "source": [
    "data[15,:].mean()"
   ]
  },
  {
   "cell_type": "code",
   "execution_count": 54,
   "metadata": {},
   "outputs": [
    {
     "name": "stdout",
     "output_type": "stream",
     "text": [
      "minimum inflammation per day\n"
     ]
    },
    {
     "data": {
      "image/png": "[encoded data removed]",
      "text/plain": [
       "<matplotlib.figure.Figure at 0x7f333c525610>"
      ]
     },
     "metadata": {},
     "output_type": "display_data"
    }
   ],
   "source": [
    "print 'minimum inflammation per day'\n",
    "pyplot.plot(data[0,:].mean())\n",
    "pyplot.show(all)"
   ]
  },
  {
   "cell_type": "code",
   "execution_count": 36,
   "metadata": {},
   "outputs": [
    {
     "name": "stdout",
     "output_type": "stream",
     "text": [
      "minimum inflammation per day\n"
     ]
    },
    {
     "data": {
      "image/png": "[encoded data removed]",
      "text/plain": [
       "<matplotlib.figure.Figure at 0x7f333c3dbcd0>"
      ]
     },
     "metadata": {},
     "output_type": "display_data"
    }
   ],
   "source": [
    "print 'minimum inflammation per day'\n",
    "pyplot.plot(data.min(axis=0))\n",
    "pyplot.show(all)"
   ]
  },
  {
   "cell_type": "code",
   "execution_count": 31,
   "metadata": {},
   "outputs": [
    {
     "name": "stdout",
     "output_type": "stream",
     "text": [
      "Standard deviation inflammation per day\n"
     ]
    },
    {
     "data": {
      "image/png": "[encoded data removed]",
      "text/plain": [
       "<matplotlib.figure.Figure at 0x7f333c81e790>"
      ]
     },
     "metadata": {},
     "output_type": "display_data"
    }
   ],
   "source": [
    "print 'Standard deviation inflammation per day'\n",
    "pyplot.plot(data.std(axis=0))\n",
    "pyplot.show()\n",
    "\n"
   ]
  },
  {
   "cell_type": "markdown",
   "metadata": {
    "cell_tags": []
   },
   "source": [
    "### Wrapping Up"
   ]
  },
  {
   "cell_type": "markdown",
   "metadata": {
    "cell_tags": []
   },
   "source": [
    "It's very common to create an [alias](gloss.html#alias-library) for a library when importing it\n",
    "in order to reduce the amount of typing we have to do.\n",
    "Here are our three plots side by side using aliases for `numpy` and `pyplot`:"
   ]
  },
  {
   "cell_type": "code",
   "execution_count": 63,
   "metadata": {
    "cell_tags": []
   },
   "outputs": [
    {
     "data": {
      "image/png": "[encoded data removed]",
      "text/plain": [
       "<matplotlib.figure.Figure at 0x7f333ea6a8d0>"
      ]
     },
     "metadata": {},
     "output_type": "display_data"
    }
   ],
   "source": [
    "import numpy as np\n",
    "from matplotlib import pyplot as plt\n",
    "\n",
    "data = np.loadtxt(fname='inflammation-01.csv', delimiter=',')\n",
    "\n",
    "plt.figure(figsize=(15.0, 3.0))\n",
    "\n",
    "plt.subplot(1, 4, 1)\n",
    "plt.ylabel('average')\n",
    "plt.plot(data.mean(0))\n",
    "\n",
    "plt.subplot(1, 4, 2)\n",
    "plt.ylabel('max')\n",
    "plt.plot(data.max(0))\n",
    "\n",
    "plt.subplot(1, 4, 3)\n",
    "plt.ylabel('min')\n",
    "plt.plot(data.min(0))\n",
    "\n",
    "\n",
    "plt.subplot(1, 4, 4)\n",
    "plt.ylabel('standard deviation')\n",
    "plt.plot(data.std(0))\n",
    "\n",
    "\n",
    "\n",
    "plt.tight_layout()\n",
    "plt.show()"
   ]
  },
  {
   "cell_type": "markdown",
   "metadata": {
    "cell_tags": []
   },
   "source": [
    "The first two lines re-load our libraries as `np` and `plt`,\n",
    "which are the aliases most Python programmers use.\n",
    "The call to `loadtxt` reads our data,\n",
    "and the rest of the program tells the plotting library\n",
    "how large we want the figure to be,\n",
    "that we're creating three sub-plots,\n",
    "what to draw for each one,\n",
    "and that we want a tight layout.\n",
    "(Perversely,\n",
    "if we leave out that call to `plt.tight_layout()`,\n",
    "the graphs will actually be squeezed together more closely.)"
   ]
  },
  {
   "cell_type": "markdown",
   "metadata": {
    "cell_tags": [
     "challenges"
    ]
   },
   "source": [
    "#### Challenges\n",
    "\n",
    "1.  Modify the program to display the three plots on top of one another instead of side by side."
   ]
  },
  {
   "cell_type": "code",
   "execution_count": 82,
   "metadata": {},
   "outputs": [
    {
     "data": {
      "image/png": "[encoded data removed]",
      "text/plain": [
       "<matplotlib.figure.Figure at 0x7f3337ddf550>"
      ]
     },
     "metadata": {},
     "output_type": "display_data"
    }
   ],
   "source": [
    "import numpy as np\n",
    "from matplotlib import pyplot as plt\n",
    "\n",
    "data = np.loadtxt(fname='inflammation-01.csv', delimiter=',')\n",
    "\n",
    "plt.figure(figsize=(10.0, 13.0))\n",
    "\n",
    "plt.subplot(4,1, 1)\n",
    "plt.ylabel('average')\n",
    "plt.plot(data.mean(0))\n",
    "\n",
    "plt.subplot(4,1, 2)\n",
    "plt.ylabel('max')\n",
    "plt.plot(data.max(0))\n",
    "\n",
    "plt.subplot(4,1, 3)\n",
    "plt.ylabel('min')\n",
    "plt.plot(data.min(0))\n",
    "\n",
    "\n",
    "plt.subplot(4, 1, 4)\n",
    "plt.ylabel('standard deviation')\n",
    "plt.plot(data.std(0))\n",
    "\n",
    "\n",
    "\n",
    "plt.tight_layout()\n",
    "plt.show()"
   ]
  },
  {
   "cell_type": "markdown",
   "metadata": {
    "cell_tags": [
     "keypoints"
    ]
   },
   "source": [
    "#### Key Points\n",
    "\n",
    "*   Import a library into a program using `import libraryname`.\n",
    "*   Use the `numpy` library to work with arrays in Python.\n",
    "*   Use `variable = value` to assign a value to a variable in order to record it in memory.\n",
    "*   Variables are created on demand whenever a value is assigned to them.\n",
    "*   Use `print something` to display the value of `something`.\n",
    "*   The expression `array.shape` gives the shape of an array.\n",
    "*   Use `array[x, y]` to select a single element from an array.\n",
    "*   Array indices start at 0, not 1.\n",
    "*   Use `low:high` to specify a slice that includes the indices from `low` to `high-1`.\n",
    "*   All the indexing and slicing that works on arrays also works on strings.\n",
    "*   Use `# some kind of explanation` to add comments to programs.\n",
    "*   Use `array.mean()`, `array.max()`, and `array.min()` to calculate simple statistics.\n",
    "*   Use `array.mean(axis=0)` or `array.mean(axis=1)` to calculate statistics across the specified axis.\n",
    "*   Use the `pyplot` library from `matplotlib` for creating simple visualizations."
   ]
  },
  {
   "cell_type": "markdown",
   "metadata": {
    "cell_tags": []
   },
   "source": [
    "#### Next Steps\n",
    "\n",
    "Our work so far has convinced us that something's wrong with our first data file.\n",
    "We would like to check the other 11 the same way,\n",
    "but typing in the same commands repeatedly is tedious and error-prone.\n",
    "Since computers don't get bored (that we know of),\n",
    "we should create a way to do a complete analysis with a single command,\n",
    "and then figure out how to repeat that step once for each file.\n",
    "These operations are the subjects of the next two lessons."
   ]
  }
 ],
 "metadata": {
  "kernelspec": {
   "display_name": "Python 2",
   "language": "python",
   "name": "python2"
  },
  "language_info": {
   "codemirror_mode": {
    "name": "ipython",
    "version": 2
   },
   "file_extension": ".py",
   "mimetype": "text/x-python",
   "name": "python",
   "nbconvert_exporter": "python",
   "pygments_lexer": "ipython2",
   "version": "2.7.13"
  }
 },
 "nbformat": 4,
 "nbformat_minor": 1
}
